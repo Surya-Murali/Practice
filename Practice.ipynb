{
 "cells": [
  {
   "cell_type": "code",
   "execution_count": 23,
   "metadata": {},
   "outputs": [
    {
     "name": "stdout",
     "output_type": "stream",
     "text": [
      "[1]\n"
     ]
    }
   ],
   "source": [
    "from sklearn import tree\n",
    "features = [[10,1], [15,1], [100,0], [120,0]]\n",
    "labels = [0,0,1,1]\n",
    "clf= tree.DecisionTreeClassifier()\n",
    "clf = clf.fit(features, labels)\n",
    "print (clf.predict([[150, 0]]))"
   ]
  },
  {
   "cell_type": "code",
   "execution_count": 24,
   "metadata": {},
   "outputs": [
    {
     "data": {
      "image/png": "[encoded data removed]",
      "text/plain": [
       "<matplotlib.figure.Figure at 0x2c5cfd5e470>"
      ]
     },
     "metadata": {},
     "output_type": "display_data"
    }
   ],
   "source": [
    "import numpy as np\n",
    "import matplotlib.pyplot as plt\n",
    "\n",
    "greyhounds = 500\n",
    "labs = 500\n",
    "\n",
    "grey_height = 28 + 4*np.random.randn(greyhounds)\n",
    "lab_height = 24 + 4*np.random.randn(labs)\n",
    "\n",
    "plt.hist([grey_height, lab_height], stacked = True, color = ['r', 'b'])\n",
    "plt.show()"
   ]
  },
  {
   "cell_type": "code",
   "execution_count": 4,
   "metadata": {
    "scrolled": false
   },
   "outputs": [
    {
     "name": "stdout",
     "output_type": "stream",
     "text": [
      "[]\n",
      "[-1.01266886]\n",
      "[-0.07975737  0.00482917]\n",
      "[-7.04785585 -0.6744918   3.05344309]\n",
      "[ 32.22957828  37.50154156  29.39266456]\n",
      "500\n",
      "[ 24.79738312  18.47138941  36.10754439  23.10682929  30.46826411\n",
      "  28.31484922  31.43399001  26.78910012  28.92794197  20.78025796\n",
      "  26.00273979  34.15723328  26.20094181  23.29568848  24.47044047\n",
      "  28.11032481  29.33693005  34.22708474  29.37054865  31.22722065\n",
      "  26.56069713  25.32697718  24.69848199  29.89847864  35.55269685\n",
      "  31.27459647  26.02718256  22.96971788  31.26949992  28.87572782\n",
      "  24.6472203   24.39658113  31.24146587  30.62836067  31.12289197\n",
      "  29.52392928  29.44717329  22.80955319  28.79636241  28.6379574\n",
      "  25.93124043  30.20932552  27.14417641  36.32714277  27.67616057\n",
      "  27.0839787   26.13944651  27.52678086  29.98369373  31.42307685\n",
      "  25.58738215  25.56532211  32.96829091  29.96020255  22.88916947\n",
      "  29.28843722  31.61855717  29.60518523  34.52540973  23.10793157\n",
      "  26.26589012  23.49615925  24.46794131  26.17247714  23.83428395\n",
      "  27.45457307  28.94404081  25.35010111  23.53842408  20.11207569\n",
      "  29.38102375  25.80237497  33.16664041  24.55843858  31.52730048\n",
      "  23.77970608  23.81295299  30.39049006  25.00236831  26.14362698\n",
      "  28.18192284  26.82620801  29.05614741  28.37537037  29.87121598\n",
      "  26.36006269  27.68488429  34.95616217  35.47212248  22.17782127\n",
      "  25.61596688  27.41847079  27.10625799  33.92338322  29.51421039\n",
      "  31.60433659  31.41412184  27.87826855  34.28278536  33.29375421\n",
      "  27.2966134   24.47064154  32.13374852  22.67836827  27.917398\n",
      "  21.23630488  28.0889285   28.84149082  24.7036853   30.93930409\n",
      "  30.53052607  28.75783725  16.68853149  26.42559627  25.73381639\n",
      "  27.34997331  27.38656075  30.51798329  20.52099826  26.41503026\n",
      "  28.9899217   30.02424985  32.23289085  31.04354008  23.12227538\n",
      "  25.26466291  30.67486929  24.57082953  25.11063886  29.1062278\n",
      "  24.28152944  27.58336512  32.12590971  27.56286143  33.22788327\n",
      "  35.29028504  31.57990884  18.98272157  32.93448329  27.40242251\n",
      "  24.79589446  26.8972004   35.4029701   31.23071817  23.72038375\n",
      "  26.32703805  31.0928266   23.91339145  22.72992048  25.31201299\n",
      "  18.79522524  25.3597267   29.90512156  32.12379557  29.11649358\n",
      "  23.8258454   24.13974497  27.82650359  25.68082305  30.45230267\n",
      "  27.09696913  29.62943737  29.09401458  25.34778709  33.59073367\n",
      "  30.66401869  31.52566169  26.36907044  21.22319152  32.06339569\n",
      "  31.26002119  26.2346327   34.66567574  22.4463841   33.64648583\n",
      "  37.93672436  26.85672663  26.89763567  24.25580318  36.72792518\n",
      "  24.4127334   27.61206068  32.75883747  30.31326708  38.60465278\n",
      "  27.70752868  25.93913184  36.21213431  26.02011151  26.68330803\n",
      "  31.30144979  25.10095376  30.30685118  31.24096179  28.97096171\n",
      "  29.3693172   27.54503253  34.31507112  31.2411281   26.0661876\n",
      "  20.11772242  27.1189282   22.44060292  28.88914645  22.09259267\n",
      "  24.32180304  28.68504867  22.64806293  33.44857282  30.76143241\n",
      "  32.48440377  29.96664453  23.55448109  22.25564207  29.77297989\n",
      "  25.64235926  28.69842115  27.79459913  24.00886536  36.29120095\n",
      "  23.10307295  28.53328401  24.13789194  36.16124373  31.06127024\n",
      "  23.93290493  26.7911492   26.84034096  30.56362996  32.50125253\n",
      "  30.93630779  25.06426327  26.00315518  26.85717325  24.89897629\n",
      "  27.14198919  32.23415311  30.28013048  27.38513838  25.16751615\n",
      "  27.88161458  20.99620079  24.08964447  27.57707835  31.05773124\n",
      "  24.55602457  28.73043881  29.04764672  29.06584445  25.88346695\n",
      "  32.41119203  29.59228383  26.87248095  24.07783951  28.03032973\n",
      "  32.25459625  33.63923691  23.97055701  28.94920772  23.66440821\n",
      "  26.66767327  29.65906535  36.44904479  26.66648982  22.69020234\n",
      "  29.83917427  20.97653862  24.30704683  31.24386209  23.50927634\n",
      "  31.73689057  27.46118921  26.73048415  31.54056738  26.54298721\n",
      "  28.91895872  35.97330933  29.42653559  31.47081886  31.7261444\n",
      "  30.6759611   35.38881565  30.54355854  21.64343781  23.0972746\n",
      "  25.9764041   29.08737597  28.93097258  36.74959775  28.99890339\n",
      "  23.41545752  32.20330259  26.25864686  29.247323    27.3087314\n",
      "  26.98697183  28.16059566  35.26934286  28.04670491  19.13264095\n",
      "  28.24881899  27.74287183  30.75660652  20.86476714  26.92356064\n",
      "  32.81069632  26.54270133  29.53041489  24.3774582   33.91446211\n",
      "  30.720076    27.42058928  23.6109133   28.44958135  32.77367264\n",
      "  25.70864453  27.14419401  28.81710358  27.97370662  24.59081289\n",
      "  26.67253814  24.49409534  24.24434575  23.62385433  25.81185137\n",
      "  28.0085876   28.67444368  25.41813749  27.62003172  24.49347983\n",
      "  27.43102303  29.13538975  25.94001663  33.05161995  26.72711482\n",
      "  37.03526446  24.86518688  28.20023103  36.5908015   27.60405747\n",
      "  24.86882887  26.0929685   22.49369629  33.70898734  29.01278984\n",
      "  35.57341875  28.93000475  26.95439005  24.53933633  27.14318314\n",
      "  28.72064939  28.32104023  27.65515114  23.63295447  33.83461483\n",
      "  32.60259257  28.58135783  18.70972704  24.91501102  22.84816544\n",
      "  22.4401143   26.23606704  28.69914499  23.7219539   40.57597308\n",
      "  27.33261841  32.28782419  29.1662937   29.14716375  26.92037846\n",
      "  23.01301132  23.38214632  26.83158007  28.97876074  28.11040531\n",
      "  26.77026787  25.73641615  29.00549603  23.1346116   26.6673818\n",
      "  23.01318046  34.88893474  26.18330098  28.16439838  24.06510198\n",
      "  27.10937787  31.05974775  24.01166058  32.79607258  26.74641965\n",
      "  32.86062759  26.03213232  35.71852324  28.49763643  35.2200754\n",
      "  28.92058055  25.03182463  28.09233185  25.58465879  26.46443836\n",
      "  27.64587333  28.97187692  21.61539363  32.87065864  29.89546786\n",
      "  27.8129652   30.23592549  31.87602734  25.82255722  29.01684959\n",
      "  27.09437429  26.52130567  26.77729603  24.5361512   31.7622747\n",
      "  23.26488755  32.07615666  25.61817326  29.49847002  21.84186184\n",
      "  30.6178291   24.91512737  26.23293286  36.12395714  27.56463841\n",
      "  30.2856841   32.34459637  29.43041728  24.31385456  28.95949379\n",
      "  30.03654884  26.16840428  37.49959956  29.78616885  31.12876096\n",
      "  32.9136289   25.54620686  30.69957378  21.57674786  31.54548274\n",
      "  23.57064102  26.21531611  25.97610372  25.71381589  26.60834067\n",
      "  35.56371726  21.33542619  24.65386124  23.16783448  31.89069556\n",
      "  27.81043879  29.54576725  31.66233645  25.71252678  31.08537607\n",
      "  25.96692903  35.0670969   32.87154654  31.42377311  29.53696662\n",
      "  33.46736391  23.7629769   30.47956271  23.01210032  30.73519033\n",
      "  33.75804922  30.33956063  33.59271773  19.72017688  29.84437012\n",
      "  28.17665281  27.77987265  30.49616374  30.79040478  34.18033691\n",
      "  34.44887122  28.29273762  25.59572101  27.21017829  30.78687249\n",
      "  29.76559856  32.01853955  30.2492193   29.25403929  28.31429947\n",
      "  28.05465037  25.03145689  24.87302417  20.82531749  25.67881165\n",
      "  30.30709132  22.70983006  32.69429645  36.25590613  24.58475643\n",
      "  28.83771412  34.76796467  28.73871061  30.30717685  35.36887669]\n"
     ]
    },
    {
     "data": {
      "image/png": "[encoded data removed]",
      "text/plain": [
       "<matplotlib.figure.Figure at 0x246b2122cc0>"
      ]
     },
     "metadata": {},
     "output_type": "display_data"
    }
   ],
   "source": [
    "import numpy as np\n",
    "import matplotlib.pyplot as plt\n",
    "\n",
    "greyhounds = 500\n",
    "labs = 500\n",
    "\n",
    "print(np.random.randn(0))\n",
    "print(np.random.randn(1))\n",
    "print(np.random.randn(2))\n",
    "print(4*np.random.randn(3))\n",
    "print(28 + 4*np.random.randn(3))\n",
    "print(greyhounds)\n",
    "print(28 + 4*np.random.randn(greyhounds))\n",
    "\n",
    "grey_height = 28 + 4*np.random.randn(greyhounds)\n",
    "lab_height = 24 + 4*np.random.randn(labs)\n",
    "\n",
    "plt.hist([grey_height, lab_height], stacked = True, color = ['r', 'b'])\n",
    "plt.show()"
   ]
  },
  {
   "cell_type": "code",
   "execution_count": 8,
   "metadata": {},
   "outputs": [
    {
     "data": {
      "image/png": "[encoded data removed]",
      "text/plain": [
       "<matplotlib.figure.Figure at 0x246b53adef0>"
      ]
     },
     "metadata": {},
     "output_type": "display_data"
    }
   ],
   "source": [
    "import numpy as np\n",
    "import matplotlib.pyplot as plt\n",
    "\n",
    "greyhounds = 500\n",
    "labs = 500\n",
    "\n",
    "grey_height = 28 + 4*np.random.randn(greyhounds)\n",
    "lab_height = 24 + 4*np.random.randn(labs)\n",
    "\n",
    "plt.hist([grey_height, lab_height], stacked = True, color = ['r', 'b'])\n",
    "plt.show()"
   ]
  },
  {
   "cell_type": "code",
   "execution_count": 9,
   "metadata": {},
   "outputs": [
    {
     "name": "stdout",
     "output_type": "stream",
     "text": [
      "0.96\n"
     ]
    }
   ],
   "source": [
    "from sklearn import datasets\n",
    "iris = datasets.load_iris()\n",
    "\n",
    "x = iris.data\n",
    "y = iris.target\n",
    "\n",
    "from sklearn.cross_validation import train_test_split\n",
    "x_train, x_test, y_train, y_test = train_test_split(x, y, test_size = 0.5)\n",
    "\n",
    "from sklearn.neighbors import KNeighborsClassifier\n",
    "my_classifier = KNeighborsClassifier()\n",
    "\n",
    "my_classifier.fit(x_train, y_train)\n",
    "\n",
    "predictions = my_classifier.predict(x_test)\n",
    "\n",
    "from sklearn.metrics import accuracy_score\n",
    "print (accuracy_score(y_test, predictions));"
   ]
  },
  {
   "cell_type": "code",
   "execution_count": 10,
   "metadata": {},
   "outputs": [
    {
     "name": "stdout",
     "output_type": "stream",
     "text": [
      "0.96\n"
     ]
    }
   ],
   "source": [
    "from scipy.spatial import distance\n",
    "\n",
    "def euc(a,b):\n",
    "    return distance.euclidean(a,b)\n",
    "\n",
    "#KNN: Nearest Neighbor algorithm\n",
    "# Creating class for our own classifier\n",
    "class myClassifier():\n",
    "    #methods inside the class\n",
    "    def fit(self, x_train, y_train):\n",
    "    \n",
    "        #store training data in class\n",
    "        self.x_train = x_train\n",
    "        self.y_train = y_train\n",
    "    \n",
    "    def predict(self, x_test):\n",
    "        #Predictions is a 2D array\n",
    "        predictions = []\n",
    "        for row in x_test:\n",
    "            label = self.closest(row)\n",
    "            predictions.append(label)\n",
    "        return predictions\n",
    "    \n",
    "    def closest(self, row):\n",
    "        best_dist = euc(row, self.x_train[0])\n",
    "        best_index = 0\n",
    "        for i in range(1, len(self.x_train)):\n",
    "            dist = euc(row, self.x_train[i])\n",
    "            if dist < best_dist:\n",
    "                best_dist = dist\n",
    "                best_index = i\n",
    "        return self.y_train[best_index]\n",
    "    \n",
    "from sklearn import datasets\n",
    "iris = datasets.load_iris()\n",
    "x = iris.data\n",
    "y = iris.target\n",
    "\n",
    "from sklearn.cross_validation import train_test_split\n",
    "x_train, x_test, y_train, y_test = train_test_split(x, y, test_size = 0.5)\n",
    "\n",
    "#from sklearn.neighbors import KNeighborsClassifier\n",
    "#my_classifier = KNeighborsClassifier()\n",
    "my_classifier = myClassifier()\n",
    "\n",
    "my_classifier.fit(x_train, y_train)\n",
    "\n",
    "predictions = my_classifier.predict(x_test)\n",
    "\n",
    "from sklearn.metrics import accuracy_score\n",
    "print (accuracy_score(y_test, predictions));"
   ]
  },
  {
   "cell_type": "code",
   "execution_count": 214,
   "metadata": {},
   "outputs": [
    {
     "name": "stdout",
     "output_type": "stream",
     "text": [
      "0.933333333333\n"
     ]
    }
   ],
   "source": [
    "from scipy.spatial import distance\n",
    "\n",
    "def euc(a,b):\n",
    "    return distance.euclidean(a,b)\n",
    "\n",
    "class myfirstClassifier():\n",
    "    #methods inside the class\n",
    "    # fit - input : features & labels\n",
    "    #store training data in class\n",
    "    def fit(self, x_train, y_train):\n",
    "        self.x_train = x_train\n",
    "        self.y_train = y_train\n",
    "    \n",
    "    #Predictions is a 2D array\n",
    "    #Predictions - input: features \n",
    "    def predict(self, x_test):\n",
    "        predictions = []\n",
    "        for row in x_test:\n",
    "            label = self.closest(row)\n",
    "            predictions.append(label)\n",
    "        return predictions\n",
    "    \n",
    "    def closest(self, row):\n",
    "        best_dist = euc(row, self.x_train[0])\n",
    "        best_index = 0\n",
    "        for i in range(1, len(self.x_train)):\n",
    "            dist = euc(row, self.x_train[i])\n",
    "            if dist < best_dist:\n",
    "                best_dist = dist\n",
    "                best_index = i\n",
    "        #print (best_dist)\n",
    "        #print (best_index)\n",
    "        return self.y_train[best_index]\n",
    "    \n",
    "from sklearn import datasets\n",
    "iris = datasets.load_iris()\n",
    "x = iris.data\n",
    "y = iris.target\n",
    "\n",
    "from sklearn.cross_validation import train_test_split\n",
    "x_train, x_test, y_train, y_test = train_test_split(x, y, test_size = 0.5)\n",
    "\n",
    "\n",
    "my_classifier = myfirstClassifier()\n",
    "\n",
    "my_classifier.fit(x_train, y_train)\n",
    "predictions = my_classifier.predict(x_test)\n",
    "\n",
    "from sklearn.metrics import accuracy_score\n",
    "print (accuracy_score(y_test, predictions));"
   ]
  },
  {
   "cell_type": "code",
   "execution_count": 1,
   "metadata": {},
   "outputs": [
    {
     "name": "stdout",
     "output_type": "stream",
     "text": [
      "showing info https://raw.githubusercontent.com/nltk/nltk_data/gh-pages/index.xml\n"
     ]
    },
    {
     "data": {
      "text/plain": [
       "True"
      ]
     },
     "execution_count": 1,
     "metadata": {},
     "output_type": "execute_result"
    }
   ],
   "source": [
    "import nltk\n",
    "nltk.download()\n",
    "# Pop up appears. Download 'All'"
   ]
  },
  {
   "cell_type": "code",
   "execution_count": 3,
   "metadata": {},
   "outputs": [
    {
     "name": "stdout",
     "output_type": "stream",
     "text": [
      "['I am Surya.', 'John Cena is the best.']\n"
     ]
    }
   ],
   "source": [
    "import nltk\n",
    "from nltk.tokenize import sent_tokenize, word_tokenize\n",
    "\n",
    "a_text = \"I am Surya. John Cena is the best.\"\n",
    "print (sent_tokenize(a_text))"
   ]
  },
  {
   "cell_type": "code",
   "execution_count": 4,
   "metadata": {},
   "outputs": [
    {
     "name": "stdout",
     "output_type": "stream",
     "text": [
      "['I', 'am', 'Surya', '.', 'John', 'Cena', 'is', 'the', 'best', '.']\n"
     ]
    }
   ],
   "source": [
    "import nltk\n",
    "from nltk.tokenize import sent_tokenize, word_tokenize\n",
    "\n",
    "a_text = \"I am Surya. John Cena is the best.\"\n",
    "print (word_tokenize(a_text))"
   ]
  },
  {
   "cell_type": "code",
   "execution_count": 5,
   "metadata": {},
   "outputs": [
    {
     "name": "stdout",
     "output_type": "stream",
     "text": [
      "['I', 'am', 'Surya', '.', 'John', 'Cena', 'is', 'the', 'best', '.']\n",
      "I\n",
      "am\n",
      "Surya\n",
      ".\n",
      "John\n",
      "Cena\n",
      "is\n",
      "the\n",
      "best\n",
      ".\n",
      "10\n"
     ]
    }
   ],
   "source": [
    "from nltk.tokenize import sent_tokenize, word_tokenize\n",
    "\n",
    "count = 0\n",
    "myText = \"I am Surya. John Cena is the best.\"\n",
    "print (word_tokenize(myText))\n",
    "for i in word_tokenize(myText):\n",
    "    count = count+1\n",
    "    print (i)\n",
    "print (count)    "
   ]
  },
  {
   "cell_type": "markdown",
   "metadata": {},
   "source": [
    "from nltk.tokenize import sent_tokenize, word_tokenize\n",
    "from nltk import ne_chunk, pos_tag\n",
    "count = 0\n",
    "myText = \"I am Surya Murali. John Cena is the best.\"\n",
    "myText1 = \"Very thorough and took time to talk to me about my problem. I would highly recommend this doctor\"\n",
    "words = word_tokenize(myText)\n",
    "#print (words);\n",
    "#print (pos_tag(words));\n",
    "\n",
    "def chunkWords(text):\n",
    "    return(ne_chunk(pos_tag(word_tokenize(text))))\n",
    "#print (chunkWords(myText));\n",
    "\n",
    "tree = chunkWords(myText1);\n",
    "tree.pprint()\n",
    "tree.draw()"
   ]
  },
  {
   "cell_type": "code",
   "execution_count": 7,
   "metadata": {},
   "outputs": [
    {
     "name": "stdout",
     "output_type": "stream",
     "text": [
      "(S\n",
      "  Very/RB\n",
      "  thorough/JJ\n",
      "  and/CC\n",
      "  took/VBD\n",
      "  time/NN\n",
      "  to/TO\n",
      "  talk/VB\n",
      "  to/TO\n",
      "  me/PRP\n",
      "  about/IN\n",
      "  my/PRP$\n",
      "  problem/NN\n",
      "  ./.\n",
      "  I/PRP\n",
      "  would/MD\n",
      "  highly/RB\n",
      "  recommend/VB\n",
      "  this/DT\n",
      "  doctor/NN)\n"
     ]
    }
   ],
   "source": [
    "from nltk.tokenize import sent_tokenize, word_tokenize\n",
    "from nltk import ne_chunk, pos_tag\n",
    "count = 0\n",
    "myText = \"I am Surya Murali. John Cena is the best.\"\n",
    "myText1 = \"Very thorough and took time to talk to me about my problem. I would highly recommend this doctor\"\n",
    "words = word_tokenize(myText)\n",
    "#print (words);\n",
    "#print (pos_tag(words));\n",
    "\n",
    "def chunkWords(text):\n",
    "    return(ne_chunk(pos_tag(word_tokenize(text))))\n",
    "#print (chunkWords(myText));\n",
    "\n",
    "tree = chunkWords(myText1);\n",
    "tree.pprint()\n",
    "tree.draw()"
   ]
  },
  {
   "cell_type": "code",
   "execution_count": 9,
   "metadata": {},
   "outputs": [
    {
     "name": "stdout",
     "output_type": "stream",
     "text": [
      "Counter({'ha': 3, 'really': 2, 'that': 1, 'was': 1, 'funny': 1})\n"
     ]
    }
   ],
   "source": [
    "from nltk.tokenize import sent_tokenize, word_tokenize\n",
    "from nltk import ne_chunk, pos_tag\n",
    "from collections import Counter\n",
    "count = 0\n",
    "myText = \"I am Surya Murali. John Cena is the best.\"\n",
    "myText1 = \"Very thorough and took time to talk to me about my problem. I would highly recommend this doctor\"\n",
    "myText2 = \"Ha ha ha that was really really funny\"\n",
    "words = word_tokenize(myText)\n",
    "words1 = word_tokenize(myText1)\n",
    "words2 = word_tokenize(myText2.lower())\n",
    "#print (words);\n",
    "#print (pos_tag(words));\n",
    "\n",
    "#def chunkWords(text):\n",
    "#    return(ne_chunk(pos_tag(word_tokenize(text))))\n",
    "#print (chunkWords(myText));\n",
    "\n",
    "#tree = chunkWords(myText1);\n",
    "#tree.pprint()\n",
    "#tree.draw()\n",
    "\n",
    "frequencies = Counter(words2)\n",
    "print (frequencies);"
   ]
  },
  {
   "cell_type": "code",
   "execution_count": 10,
   "metadata": {},
   "outputs": [
    {
     "name": "stdout",
     "output_type": "stream",
     "text": [
      "['hahah', 'ha', 'ha', 'that', 'wa', 'realli', 'realli', 'realis', 'realis', 'funni', '.', 'haha', 'cours', 'cours']\n",
      "Counter({'ha': 2, 'realli': 2, 'realis': 2, 'cours': 2, 'hahah': 1, 'that': 1, 'wa': 1, 'funni': 1, '.': 1, 'haha': 1})\n"
     ]
    }
   ],
   "source": [
    "from nltk.tokenize import sent_tokenize, word_tokenize\n",
    "from nltk import ne_chunk, pos_tag\n",
    "from nltk.stem import PorterStemmer\n",
    "from collections import Counter\n",
    "count = 0\n",
    "stemmer = PorterStemmer()\n",
    "myText = \"I am Surya Murali. John Cena is the best.\"\n",
    "myText1 = \"Very thorough and took time to talk to me about my problem. I would highly recommend this doctor\"\n",
    "myText2 = \"Hahah ha ha that was really really realised realise funny. Haha course courses\"\n",
    "words = word_tokenize(myText)\n",
    "words1 = word_tokenize(myText1)\n",
    "words2 = word_tokenize(myText2.lower())\n",
    "\n",
    "def chunkWords(text):\n",
    "    return(ne_chunk(pos_tag(word_tokenize(text))))\n",
    "#print (chunkWords(myText));\n",
    "\n",
    "tree = chunkWords(myText1);\n",
    "#tree.pprint()\n",
    "#tree.draw()\n",
    "\n",
    "frequencies = Counter(words2)\n",
    "#print (frequencies);\n",
    "\n",
    "stemmedWordList = []\n",
    "for i in words2:\n",
    "    stemmedWord = stemmer.stem(i)\n",
    "    stemmedWordList.append(stemmedWord)\n",
    "print(stemmedWordList)   \n",
    "\n",
    "stemmedFrequencies = Counter(stemmedWordList)\n",
    "print (stemmedFrequencies);\n"
   ]
  },
  {
   "cell_type": "code",
   "execution_count": 11,
   "metadata": {},
   "outputs": [
    {
     "name": "stdout",
     "output_type": "stream",
     "text": [
      "Counter({'ha': 2, 'realli': 2, 'realis': 2, 'cours': 2, 'hahah': 1, 'that': 1, 'wa': 1, 'funni': 1, '.': 1, 'haha': 1})\n",
      "ha 2\n",
      "realli 2\n",
      "realis 2\n",
      "cours 2\n",
      "hahah 1\n",
      "that 1\n",
      "wa 1\n"
     ]
    }
   ],
   "source": [
    "from nltk.tokenize import sent_tokenize, word_tokenize\n",
    "from nltk import ne_chunk, pos_tag\n",
    "from nltk.stem import PorterStemmer\n",
    "from collections import Counter\n",
    "from nltk.corpus import stopwords\n",
    "\n",
    "count = 0\n",
    "stemmer = PorterStemmer()\n",
    "englishStopwords = stopwords.words('english')\n",
    "\n",
    "myText = \"I am Surya Murali. John Cena is the best.\"\n",
    "myText1 = \"Very thorough and took time to talk to me about my problem. I would highly recommend this doctor\"\n",
    "myText2 = \"Hahah ha ha that was really really realised realise funny. Haha course courses\"\n",
    "words = word_tokenize(myText)\n",
    "words1 = word_tokenize(myText1)\n",
    "words2 = word_tokenize(myText2.lower())\n",
    "\n",
    "def chunkWords(text):\n",
    "    return(ne_chunk(pos_tag(word_tokenize(text))))\n",
    "#print (chunkWords(myText));\n",
    "\n",
    "tree = chunkWords(myText1);\n",
    "#tree.pprint()\n",
    "#tree.draw()\n",
    "\n",
    "frequencies = Counter(words2)\n",
    "#print (frequencies);\n",
    "\n",
    "stemmedWordList = []\n",
    "for i in words2:\n",
    "    stemmedWord = stemmer.stem(i)\n",
    "    stemmedWordList.append(stemmedWord)\n",
    "#print(stemmedWordList)   \n",
    "\n",
    "stemmedFrequencies = Counter(stemmedWordList)\n",
    "print (stemmedFrequencies);\n",
    "\n",
    "for i, count in stemmedFrequencies.most_common(7):\n",
    "    print (i, count)"
   ]
  },
  {
   "cell_type": "code",
   "execution_count": 124,
   "metadata": {},
   "outputs": [
    {
     "name": "stdout",
     "output_type": "stream",
     "text": [
      "Counter({'ha': 2, 'realli': 2, 'realis': 2, 'cours': 2, 'hahah': 1, 'that': 1, 'wa': 1, 'wow': 1, 'woww': 1, 'funni': 1, '.': 1, 'haha': 1})\n",
      "ha 2\n",
      "realli 2\n",
      "realis 2\n",
      "cours 2\n",
      "hahah 1\n",
      "wa 1\n",
      "wow 1\n",
      "woww 1\n",
      "funni 1\n",
      "haha 1\n"
     ]
    }
   ],
   "source": [
    "from nltk.tokenize import sent_tokenize, word_tokenize\n",
    "from nltk import ne_chunk, pos_tag\n",
    "from nltk.stem import PorterStemmer\n",
    "from collections import Counter\n",
    "from nltk.corpus import stopwords\n",
    "\n",
    "count = 0\n",
    "stemmer = PorterStemmer()\n",
    "englishStopwords = stopwords.words('english')\n",
    "\n",
    "myText = \"I am Surya Murali. John Cena is the best.\"\n",
    "myText1 = \"Very thorough and took time to talk to me about my problem. I would highly recommend this doctor\"\n",
    "myText2 = \"Hahah ha ha that was really wow really woww realised realise funny. Haha course courses\"\n",
    "words = word_tokenize(myText)\n",
    "words1 = word_tokenize(myText1)\n",
    "words2 = word_tokenize(myText2.lower())\n",
    "\n",
    "def chunkWords(text):\n",
    "    return(ne_chunk(pos_tag(word_tokenize(text))))\n",
    "#print (chunkWords(myText));\n",
    "\n",
    "tree = chunkWords(myText1);\n",
    "#tree.pprint()\n",
    "#tree.draw()\n",
    "\n",
    "frequencies = Counter(words2)\n",
    "#print (frequencies);\n",
    "\n",
    "stemmedWordList = []\n",
    "for i in words2:\n",
    "    stemmedWord = stemmer.stem(i)\n",
    "    stemmedWordList.append(stemmedWord)\n",
    "#print(stemmedWordList)   \n",
    "\n",
    "stemmedFrequencies = Counter(stemmedWordList)\n",
    "print (stemmedFrequencies);\n",
    "\n",
    "for i, count in stemmedFrequencies.most_common(20):\n",
    "    if i in englishStopwords or len(i)<2:\n",
    "        continue\n",
    "    print (i, count)"
   ]
  },
  {
   "cell_type": "code",
   "execution_count": 22,
   "metadata": {},
   "outputs": [
    {
     "name": "stdout",
     "output_type": "stream",
     "text": [
      "Counter({'.': 5, 'he': 3, 'is': 3, 'wow': 2, 'that': 2, 'wa': 2, 'veri': 2, 'thought': 1, 'nice': 1, 'a': 1, 'good': 1, 'person': 1, 'rude': 1, 'awesom': 1})\n",
      "('he', 'is') 3\n",
      "('that', 'was') 2\n",
      "('wow', 'wow') 1\n",
      "('wow', 'that') 1\n",
      "('was', 'very') 1\n",
      "('very', 'very') 1\n",
      "('very', 'thoughtful') 1\n",
      "('was', 'nice') 1\n",
      "('is', 'a') 1\n",
      "('a', 'good') 1\n",
      "('good', 'person') 1\n",
      "('is', 'rude') 1\n",
      "('is', 'awesome') 1\n",
      "['wow', 'wow', 'that', 'was', 'very', 'very', 'thoughtful', '.', 'that', 'was', 'nice', '.', 'he', 'is', 'a', 'good', 'person', '.', 'he', 'is', 'rude', '.', 'he', 'is', 'awesome', '.']\n"
     ]
    }
   ],
   "source": [
    "from nltk.tokenize import sent_tokenize, word_tokenize\n",
    "from nltk import ne_chunk, pos_tag\n",
    "from nltk.stem import PorterStemmer\n",
    "from collections import Counter\n",
    "from nltk.corpus import stopwords\n",
    "from nltk import ngrams\n",
    "\n",
    "count = 0\n",
    "stemmer = PorterStemmer()\n",
    "englishStopwords = stopwords.words('english')\n",
    "\n",
    "myText = \"I am Surya Murali. John Cena is the best.\"\n",
    "myText1 = \"Very thorough and took time to talk to me about my problem. I would highly recommend this doctor\"\n",
    "myText2 = \"Wow wow that was very very thoughtful. That was nice. He is a good person. He is rude. He is awesome.\"\n",
    "words = word_tokenize(myText)\n",
    "words1 = word_tokenize(myText1)\n",
    "words2 = word_tokenize(myText2.lower())\n",
    "\n",
    "def chunkWords(text):\n",
    "    return(ne_chunk(pos_tag(word_tokenize(text))))\n",
    "#print (chunkWords(myText));\n",
    "\n",
    "tree = chunkWords(myText1);\n",
    "#tree.pprint()\n",
    "#tree.draw()\n",
    "\n",
    "frequencies = Counter(words2)\n",
    "#print (frequencies);\n",
    "\n",
    "stemmedWordList = []\n",
    "bigramsList = []\n",
    "\n",
    "\n",
    "for i in words2:\n",
    "    stemmedWord = stemmer.stem(i)\n",
    "    stemmedWordList.append(stemmedWord)\n",
    "#print(stemmedWordList)   \n",
    "\n",
    "stemmedFrequencies = Counter(stemmedWordList)\n",
    "print (stemmedFrequencies);\n",
    "\n",
    "bigrams = list(ngrams(words2, 2))\n",
    "bigramsList = bigramsList + bigrams\n",
    "\n",
    "frequencies = Counter(bigramsList)\n",
    "for i, count in frequencies.most_common(20):\n",
    "    if(\".\" in i):\n",
    "        continue\n",
    "    print (i, count)\n",
    "    \n",
    "print (words2)"
   ]
  },
  {
   "cell_type": "code",
   "execution_count": 21,
   "metadata": {},
   "outputs": [
    {
     "name": "stdout",
     "output_type": "stream",
     "text": [
      "('very', 'thorough', 'and') 1\n",
      "('thorough', 'and', 'took') 1\n",
      "('and', 'took', 'time') 1\n",
      "('took', 'time', 'to') 1\n",
      "('time', 'to', 'talk') 1\n",
      "('to', 'talk', 'to') 1\n",
      "('talk', 'to', 'me') 1\n",
      "('to', 'me', 'about') 1\n",
      "('me', 'about', 'my') 1\n",
      "('about', 'my', 'problem') 1\n",
      "('i', 'would', 'highly') 1\n",
      "('would', 'highly', 'recommend') 1\n",
      "('highly', 'recommend', 'this') 1\n",
      "('recommend', 'this', 'doctor') 1\n"
     ]
    }
   ],
   "source": [
    "from nltk.tokenize import sent_tokenize, word_tokenize\n",
    "from nltk import ne_chunk, pos_tag\n",
    "from nltk.stem import PorterStemmer\n",
    "from collections import Counter\n",
    "from nltk.corpus import stopwords\n",
    "from nltk import ngrams\n",
    "\n",
    "count = 0\n",
    "stemmer = PorterStemmer()\n",
    "englishStopwords = stopwords.words('english')\n",
    "\n",
    "myText = \"I am Surya Murali. John Cena is the best.\"\n",
    "myText1 = \"Very thorough and took time to talk to me about my problem. I would highly recommend this doctor\"\n",
    "words = word_tokenize(myText)\n",
    "words1 = word_tokenize(myText1)\n",
    "words2 = word_tokenize(myText1.lower())\n",
    "\n",
    "def chunkWords(text):\n",
    "    return(ne_chunk(pos_tag(word_tokenize(text))))\n",
    "#print (chunkWords(myText));\n",
    "\n",
    "tree = chunkWords(myText1);\n",
    "#tree.pprint()\n",
    "#tree.draw()\n",
    "\n",
    "frequencies = Counter(words2)\n",
    "#print (frequencies);\n",
    "\n",
    "stemmedWordList = []\n",
    "bigramsList = []\n",
    "\n",
    "\n",
    "for i in words2:\n",
    "    stemmedWord = stemmer.stem(i)\n",
    "    stemmedWordList.append(stemmedWord)\n",
    "#print(stemmedWordList)   \n",
    "\n",
    "stemmedFrequencies = Counter(stemmedWordList)\n",
    "#print (stemmedFrequencies);\n",
    "\n",
    "bigrams = list(ngrams(words2, 3))\n",
    "bigramsList = bigramsList + bigrams\n",
    "\n",
    "frequencies = Counter(bigramsList)\n",
    "for i, count in frequencies.most_common(20):\n",
    "    if(\".\" in i or \",\" in i):\n",
    "        continue\n",
    "    print (i, count)\n"
   ]
  },
  {
   "cell_type": "code",
   "execution_count": 20,
   "metadata": {},
   "outputs": [
    {
     "name": "stdout",
     "output_type": "stream",
     "text": [
      "('very', 'thorough', 'and') 1\n",
      "('thorough', 'and', 'took') 1\n",
      "('and', 'took', 'time') 1\n",
      "('took', 'time', 'to') 1\n",
      "('time', 'to', 'talk') 1\n",
      "('to', 'talk', 'to') 1\n",
      "('talk', 'to', 'me') 1\n",
      "('to', 'me', 'about') 1\n",
      "('me', 'about', 'my') 1\n",
      "('about', 'my', 'problem') 1\n",
      "('i', 'would', 'highly') 1\n",
      "('would', 'highly', 'recommend') 1\n",
      "('highly', 'recommend', 'this') 1\n",
      "('recommend', 'this', 'doctor') 1\n"
     ]
    }
   ],
   "source": [
    "from nltk.tokenize import sent_tokenize, word_tokenize\n",
    "from nltk import ne_chunk, pos_tag\n",
    "from nltk.stem import PorterStemmer\n",
    "from collections import Counter\n",
    "from nltk.corpus import stopwords\n",
    "from nltk import ngrams\n",
    "\n",
    "count = 0\n",
    "stemmer = PorterStemmer()\n",
    "englishStopwords = stopwords.words('english')\n",
    "\n",
    "myText = \"I am Surya Murali. John Cena is the best.\"\n",
    "myText1 = \"Very thorough and took time to talk to me about my problem. I would highly recommend this doctor\"\n",
    "words = word_tokenize(myText)\n",
    "words1 = word_tokenize(myText1)\n",
    "words2 = word_tokenize(myText1.lower())\n",
    "\n",
    "def chunkWords(text):\n",
    "    return(ne_chunk(pos_tag(word_tokenize(text))))\n",
    "#print (chunkWords(myText));\n",
    "\n",
    "tree = chunkWords(myText1);\n",
    "#tree.pprint()\n",
    "#tree.draw()\n",
    "\n",
    "frequencies = Counter(words2)\n",
    "#print (frequencies);\n",
    "\n",
    "stemmedWordList = []\n",
    "bigramsList = []\n",
    "\n",
    "\n",
    "for i in words2:\n",
    "    stemmedWord = stemmer.stem(i)\n",
    "    stemmedWordList.append(stemmedWord)\n",
    "#print(stemmedWordList)   \n",
    "\n",
    "stemmedFrequencies = Counter(stemmedWordList)\n",
    "#print (stemmedFrequencies);\n",
    "\n",
    "bigrams = list(ngrams(words2, 3))\n",
    "bigramsList = bigramsList + bigrams\n",
    "\n",
    "frequencies = Counter(bigramsList)\n",
    "for i, count in frequencies.most_common(20):\n",
    "    if(\".\" in i or \",\" in i):\n",
    "        continue\n",
    "    print (i, count)"
   ]
  },
  {
   "cell_type": "code",
   "execution_count": null,
   "metadata": {
    "collapsed": true
   },
   "outputs": [],
   "source": []
  }
 ],
 "metadata": {
  "kernelspec": {
   "display_name": "Python 3",
   "language": "python",
   "name": "python3"
  },
  "language_info": {
   "codemirror_mode": {
    "name": "ipython",
    "version": 3
   },
   "file_extension": ".py",
   "mimetype": "text/x-python",
   "name": "python",
   "nbconvert_exporter": "python",
   "pygments_lexer": "ipython3",
   "version": "3.6.1"
  }
 },
 "nbformat": 4,
 "nbformat_minor": 2
}
