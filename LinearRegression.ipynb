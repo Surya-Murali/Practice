{
 "cells": [
  {
   "cell_type": "markdown",
   "metadata": {},
   "source": [
    "# Linear Regression"
   ]
  },
  {
   "cell_type": "markdown",
   "metadata": {},
   "source": [
    "Let's fabricate some data that shows a roughly linear relationship between page speed and amount purchased:"
   ]
  },
  {
   "cell_type": "code",
   "execution_count": 1,
   "metadata": {},
   "outputs": [
    {
     "data": {
      "text/plain": [
       "<matplotlib.collections.PathCollection at 0x1ed7a514898>"
      ]
     },
     "execution_count": 1,
     "metadata": {},
     "output_type": "execute_result"
    },
    {
     "data": {
      "image/png": "[encoded data removed]",
      "text/plain": [
       "<matplotlib.figure.Figure at 0x1ed7a223c50>"
      ]
     },
     "metadata": {},
     "output_type": "display_data"
    }
   ],
   "source": [
    "%matplotlib inline\n",
    "import numpy as np\n",
    "from pylab import *\n",
    "\n",
    "pageSpeeds = np.random.normal(3.0, 1.0, 1000)\n",
    "purchaseAmount = 100 - (pageSpeeds + np.random.normal(0, 0.1, 1000)) * 3\n",
    "\n",
    "scatter(pageSpeeds, purchaseAmount)"
   ]
  },
  {
   "cell_type": "markdown",
   "metadata": {},
   "source": [
    "As we only have two features, we can keep it simple and just use scipy.state.linregress:"
   ]
  },
  {
   "cell_type": "code",
   "execution_count": 1,
   "metadata": {},
   "outputs": [
    {
     "ename": "NameError",
     "evalue": "name 'pageSpeeds' is not defined",
     "output_type": "error",
     "traceback": [
      "\u001b[1;31m---------------------------------------------------------------------------\u001b[0m",
      "\u001b[1;31mNameError\u001b[0m                                 Traceback (most recent call last)",
      "\u001b[1;32m<ipython-input-1-aa9eed5ee4b6>\u001b[0m in \u001b[0;36m<module>\u001b[1;34m()\u001b[0m\n\u001b[0;32m      1\u001b[0m \u001b[1;32mfrom\u001b[0m \u001b[0mscipy\u001b[0m \u001b[1;32mimport\u001b[0m \u001b[0mstats\u001b[0m\u001b[1;33m\u001b[0m\u001b[0m\n\u001b[0;32m      2\u001b[0m \u001b[1;33m\u001b[0m\u001b[0m\n\u001b[1;32m----> 3\u001b[1;33m \u001b[0mslope\u001b[0m\u001b[1;33m,\u001b[0m \u001b[0mintercept\u001b[0m\u001b[1;33m,\u001b[0m \u001b[0mr_value\u001b[0m\u001b[1;33m,\u001b[0m \u001b[0mp_value\u001b[0m\u001b[1;33m,\u001b[0m \u001b[0mstd_err\u001b[0m \u001b[1;33m=\u001b[0m \u001b[0mstats\u001b[0m\u001b[1;33m.\u001b[0m\u001b[0mlinregress\u001b[0m\u001b[1;33m(\u001b[0m\u001b[0mpageSpeeds\u001b[0m\u001b[1;33m,\u001b[0m \u001b[0mpurchaseAmount\u001b[0m\u001b[1;33m)\u001b[0m\u001b[1;33m\u001b[0m\u001b[0m\n\u001b[0m\u001b[0;32m      4\u001b[0m \u001b[0mstats\u001b[0m\u001b[1;33m.\u001b[0m\u001b[0mlinregress\u001b[0m\u001b[1;33m(\u001b[0m\u001b[0mpageSpeeds\u001b[0m\u001b[1;33m,\u001b[0m \u001b[0mpurchaseAmount\u001b[0m\u001b[1;33m)\u001b[0m\u001b[1;33m\u001b[0m\u001b[0m\n\u001b[0;32m      5\u001b[0m \u001b[0mslope\u001b[0m\u001b[1;33m\u001b[0m\u001b[0m\n",
      "\u001b[1;31mNameError\u001b[0m: name 'pageSpeeds' is not defined"
     ]
    }
   ],
   "source": [
    "from scipy import stats\n",
    "\n",
    "slope, intercept, r_value, p_value, std_err = stats.linregress(pageSpeeds, purchaseAmount)\n",
    "stats.linregress(pageSpeeds, purchaseAmount)"
   ]
  },
  {
   "cell_type": "markdown",
   "metadata": {},
   "source": [
    "Not surprisngly, our R-squared value shows a really good fit:"
   ]
  },
  {
   "cell_type": "code",
   "execution_count": 19,
   "metadata": {},
   "outputs": [
    {
     "data": {
      "text/plain": [
       "0.98992441056485037"
      ]
     },
     "execution_count": 19,
     "metadata": {},
     "output_type": "execute_result"
    }
   ],
   "source": [
    "r_value ** 2"
   ]
  },
  {
   "cell_type": "code",
   "execution_count": null,
   "metadata": {
    "collapsed": true
   },
   "outputs": [],
   "source": [
    "Let's use the slope and intercept we got from the regression to plot predicted values vs. observed:"
   ]
  },
  {
   "cell_type": "code",
   "execution_count": 34,
   "metadata": {},
   "outputs": [
    {
     "data": {
      "image/png": "[encoded data removed]",
      "text/plain": [
       "<matplotlib.figure.Figure at 0x1ed7cc00710>"
      ]
     },
     "metadata": {},
     "output_type": "display_data"
    },
    {
     "data": {
      "text/plain": [
       "array([ 4.0897296 ,  2.9399056 ,  1.90167601,  4.06567569,  3.62116788,\n",
       "        4.60122646,  2.48804526,  3.84996778,  5.04286243,  3.14865375,\n",
       "        3.70782903,  0.9289579 ,  1.93112583,  2.69508232,  2.3988986 ,\n",
       "        3.01945591,  3.01175319,  1.71234794,  3.98606217,  2.38157401,\n",
       "        3.34491608,  3.74030478,  1.23963041,  3.7874843 ,  2.4559379 ,\n",
       "        1.97683063,  1.88758011,  3.35318002,  2.23037265,  2.46142699,\n",
       "        3.28158672,  3.05879615,  2.53879482,  0.79760053,  2.95118673,\n",
       "        2.0694737 ,  3.54858333,  2.75951934,  3.02444432,  4.43317643,\n",
       "        3.04606018,  2.66678302,  2.08774515,  2.26724428,  1.275888  ,\n",
       "        3.60824169,  2.50620429,  2.21682227,  3.66976984,  2.51147799,\n",
       "        1.63864298,  3.77408092,  3.53034877,  3.50841938,  2.11044908,\n",
       "        2.86252347,  3.58920282,  3.23800767,  2.16750335, -1.05850348,\n",
       "        3.38891635,  4.19799551,  3.51765933,  4.17215981,  1.90818015,\n",
       "        3.17617746,  3.49347716,  1.63109045,  4.44875832,  2.12317117,\n",
       "        1.43351351,  3.69739655,  3.03670524,  1.06801335,  2.11067142,\n",
       "        3.59445656,  3.32303728,  4.02054061,  2.59692669,  2.88138025,\n",
       "        2.68508629,  3.46489896,  3.44431576,  3.75330829,  1.94659614,\n",
       "        3.7853341 ,  3.32703022,  3.83406568,  3.27871264,  4.8984098 ,\n",
       "        3.83139781,  3.94436876,  4.5188774 ,  4.51775049,  3.24639862,\n",
       "        3.78690458,  3.54857398,  3.30437546,  2.88692799,  2.55883123,\n",
       "        1.36739248,  2.47397811,  2.39451681,  1.87829281,  3.53729086,\n",
       "        3.62589557,  3.02475006,  3.82362971,  3.06158936,  1.23669032,\n",
       "        3.50722462,  3.51289701,  4.16097938,  4.18416768,  2.09420424,\n",
       "        2.26743101,  3.48350282,  2.61062857,  1.53597013,  3.02802457,\n",
       "        0.58358472,  2.93068737,  3.76522312,  5.44728753,  2.461199  ,\n",
       "        2.05737905,  1.03423782,  4.33080212,  3.16889193,  1.76096387,\n",
       "        3.8623242 ,  3.1659553 ,  3.81980273,  3.41545978,  4.83616851,\n",
       "        4.18927448,  2.48779773,  1.38741925,  2.21226417,  1.6611446 ,\n",
       "        4.54634902,  3.46377662,  3.41014402,  3.2684388 ,  3.94007236,\n",
       "        3.93562054,  2.71727006,  2.91339005,  2.73627448,  1.98537622,\n",
       "        1.42911753,  2.80349878,  4.46075469,  2.97357614,  3.66517592,\n",
       "        1.81239264,  0.54313849,  0.26875106,  3.11683151,  3.89335792,\n",
       "        2.27222256,  4.41375424,  2.71235819,  3.21044359,  3.20118208,\n",
       "        1.81657787,  3.91942814,  2.60361772,  5.5765237 ,  2.14588762,\n",
       "        1.79444682,  2.83806734,  4.42975845,  2.13291846,  4.79525431,\n",
       "        2.98896212,  4.33096021,  4.21837373,  2.55613848,  0.92574341,\n",
       "        2.75815562,  2.14200008,  4.03116088,  3.30081428,  6.36493302,\n",
       "        2.03401462,  1.61824401,  1.89292565,  2.14821986,  3.1505942 ,\n",
       "        3.46957939,  3.08121835,  4.5719627 ,  3.8236033 ,  2.5363068 ,\n",
       "        3.40953115,  2.10275521,  1.00001161,  3.26072823,  4.55489671,\n",
       "        2.59975284,  3.0887996 ,  2.22435326,  4.10493663,  4.03206027,\n",
       "        5.15825896,  1.66792624,  3.01353116,  4.22638867,  2.78943613,\n",
       "        3.74328307,  2.45363792,  2.68131026,  1.91953621,  2.14170502,\n",
       "        2.61029979,  1.93497238,  3.3946034 ,  3.29132886,  3.17086506,\n",
       "        2.01447989,  0.54252489,  3.9916176 ,  4.04101131,  1.26612983,\n",
       "        2.95109861,  2.47147668,  3.0735224 ,  3.54662644,  3.54487832,\n",
       "        1.90098336,  1.0908742 ,  3.11508235,  1.11568571,  3.801549  ,\n",
       "        3.459761  ,  3.5304434 ,  2.42456093,  2.17442636,  3.2334535 ,\n",
       "        2.78255941,  3.44658093,  2.63103971,  3.83235917,  3.53027589,\n",
       "        4.13427542,  1.96524654,  2.28336726,  3.38789375,  3.90382221,\n",
       "        3.55535777,  1.76265801,  2.36164952,  2.31461945,  1.75387764,\n",
       "        4.59598861,  1.3539855 ,  3.26129109,  3.42119622,  0.75163027,\n",
       "        4.41394098,  2.62035532,  3.3573656 ,  1.97334597,  2.22199109,\n",
       "        2.69674925,  4.18671591,  3.33060823,  3.78930401,  3.48887105,\n",
       "        5.74634137,  4.82109174,  3.57782746,  2.92190002,  2.66212905,\n",
       "        3.02310246,  1.59242728,  3.11765005,  3.11153133,  4.70878764,\n",
       "        0.86594442,  3.94039328,  2.09101182,  3.26283828,  2.58632781,\n",
       "        0.77783269,  3.15888795,  2.15789205,  2.33627771,  3.87224908,\n",
       "        3.54211597,  4.16638299,  2.59978478,  2.63244732,  0.99387702,\n",
       "        3.39267082,  3.16685313,  0.58209539,  3.62706332,  2.4503391 ,\n",
       "        1.04734784,  2.83967438,  3.24331445,  2.28720961,  2.97448074,\n",
       "        2.58679128,  3.05180301,  3.49470459,  1.71457219,  4.09917027,\n",
       "        3.86958708,  3.0021987 ,  2.68721598,  1.67381853,  3.72959413,\n",
       "        2.83790892,  2.04862516,  4.55466725,  2.4789738 ,  2.58539164,\n",
       "        4.73682613,  3.16697976,  4.13055181,  2.21517946,  2.80404761,\n",
       "        3.34172568,  2.67651102,  4.70772113,  1.87553318,  1.4809456 ,\n",
       "        1.40415735,  3.46277167,  2.25306372,  1.06426739,  3.51243081,\n",
       "        2.55860858,  3.23672692,  3.86726796,  3.92174078,  3.3426452 ,\n",
       "        2.968993  ,  3.16755901,  3.64427159,  1.76615446,  2.98094438,\n",
       "        3.06518035,  2.23168917,  2.25167676,  2.78931022,  2.85768383,\n",
       "        4.24810784,  3.68368791,  3.43883265,  3.47271955,  3.16372472,\n",
       "        2.37974794,  2.71885279,  0.88647403,  2.36848673,  2.68754737,\n",
       "        3.15664412,  1.77519687,  2.05084023,  2.95205058,  3.63171046,\n",
       "        1.08405964,  2.88547514,  3.26814753,  2.47978255,  2.07229056,\n",
       "        3.02962951,  2.14136023,  4.29088739,  2.36063715,  2.56810872,\n",
       "        1.54641562,  3.5497571 ,  3.01377011,  5.22682269,  2.60857882,\n",
       "        4.50369059,  3.02067329,  3.47672939,  4.87111837,  3.60697001,\n",
       "        3.44132135,  2.71783209,  4.18029553,  3.32724693,  2.93760653,\n",
       "        1.69531567,  2.27421721,  4.17417906,  1.4431468 ,  4.57382038,\n",
       "        2.94650974,  2.05179311,  3.00235346,  4.78263266,  2.72133265,\n",
       "        2.62793689,  0.81669986,  3.57302328,  3.77277187,  2.87852324,\n",
       "        2.99985782,  3.10590438,  3.65012617,  2.60078788,  3.36793848,\n",
       "        3.6966135 ,  3.98761823,  2.82675189,  2.27009983,  2.12887872,\n",
       "        1.88174889,  2.97304078,  2.69911863,  2.89840557,  1.88797238,\n",
       "        2.09846365,  2.91758561,  3.96451339,  2.13715282,  3.28207565,\n",
       "        2.467469  ,  3.77737435,  3.64635868,  1.58029246,  2.06485046,\n",
       "        3.03402838,  3.96748187,  2.50272641,  3.47522937,  2.68447712,\n",
       "        3.30664083,  1.93060217,  2.62680801,  4.9163793 ,  2.44242156,\n",
       "        4.4359071 ,  1.99280921,  4.11970998,  3.88890642,  1.3761627 ,\n",
       "        3.9967727 ,  2.99913557,  3.66672827,  2.649081  ,  3.15106751,\n",
       "        2.34787314,  2.87769926,  2.77316792,  3.3687638 ,  4.07647065,\n",
       "        1.98982851,  3.10586143,  2.02380439,  3.99967369,  0.98265219,\n",
       "        4.72040365,  4.34258402,  1.99103254,  1.73845008,  2.115917  ,\n",
       "        2.39384796,  2.81590049,  4.00301726,  3.83213997,  2.83504819,\n",
       "        3.38631661,  3.96657098,  1.57740482,  4.21981825,  3.30155025,\n",
       "        3.02971372,  2.36473108,  3.19376181,  4.72358774,  1.5438544 ,\n",
       "        2.39086079,  3.44294137,  1.68360921,  3.48484012,  4.12260728,\n",
       "        2.65930187,  4.17325789,  4.3585704 ,  2.65526251,  3.63379179,\n",
       "        2.90564736,  4.61887145,  1.7382241 ,  2.34831408,  3.0214117 ,\n",
       "        2.33934946,  3.40246875,  4.7168368 ,  1.84253555,  2.80116905,\n",
       "        4.58961737,  1.72176829,  3.20879554,  2.33109229,  3.40680297,\n",
       "        1.56758629,  3.28655913,  0.64769408,  2.11539731,  2.40947349,\n",
       "        2.76732363,  2.33177398,  3.75722453,  4.0999894 ,  2.79207516,\n",
       "        3.29733159,  4.57194052,  2.34522371,  3.2262019 ,  3.09322909,\n",
       "        2.74936465,  3.32987769,  2.01447414,  3.0341618 ,  1.35225391,\n",
       "        1.92959632,  0.83596649,  1.25182627,  2.13780042,  2.39982718,\n",
       "        1.76189462,  2.52946786,  3.88712008,  2.68591789,  1.7645665 ,\n",
       "        4.30148574,  4.78993948,  3.30506962,  1.73439722,  3.4089927 ,\n",
       "        2.67435202,  3.1980905 ,  2.16821084,  3.53339359,  3.72296458,\n",
       "        2.76052979,  2.26374444,  2.11119611,  4.25347699,  3.63634253,\n",
       "        5.09437059,  3.05764687,  2.7388423 ,  3.34719638,  2.59018396,\n",
       "        2.02166572,  3.29904726,  4.09565913,  1.0413432 ,  3.23054592,\n",
       "        1.8136621 ,  4.88982196,  3.05838319,  1.58746847,  2.72066646,\n",
       "        2.63784456,  3.72975131,  3.77450029,  2.15185354,  1.80596939,\n",
       "        2.6529863 ,  1.83169394,  2.42069569,  3.42601387,  1.93283039,\n",
       "        4.22158811,  3.13589776,  2.99644063,  2.93692133,  3.63317871,\n",
       "        1.13784376,  3.36931373,  2.72589861,  1.54481726,  3.43229426,\n",
       "        1.74812966,  1.79235065,  2.96431934,  3.01971669,  3.54474849,\n",
       "        2.99201456,  3.94959251,  1.5064094 ,  3.55264466,  2.7742899 ,\n",
       "        3.18815523,  2.38126515,  3.12516106,  2.82288069,  3.70523641,\n",
       "        1.83778689,  2.89089414,  0.13311835,  4.15378021,  2.23400232,\n",
       "        2.72967403,  3.41511357,  2.21035731,  2.87269189,  1.97029267,\n",
       "        2.1495649 ,  1.99305438,  1.26772338,  4.10556594,  4.773588  ,\n",
       "        3.19101537,  2.60247406,  5.10674718,  3.90238765,  2.33273522,\n",
       "        2.90476265,  2.79289109,  3.65404794,  3.5467759 ,  1.44344875,\n",
       "        3.07231735,  2.48016822,  3.98561907,  1.33791442,  2.88619114,\n",
       "        1.95077215,  3.06120255,  3.89403992,  2.45272388,  1.54136996,\n",
       "        3.21502041,  3.60005433,  2.43774266,  3.05075063,  5.74595363,\n",
       "        2.87805499,  3.55495668,  4.06942722,  2.70489741,  2.9701817 ,\n",
       "        2.29830958,  2.39558686,  2.40334153,  3.75974237,  4.67512943,\n",
       "        1.14836427,  3.36749047,  2.65808379,  2.54122796,  1.11734138,\n",
       "        1.68398965,  5.66492912,  3.51090884,  3.22385917,  1.46740945,\n",
       "        3.07847304,  3.17081205,  4.70786287,  2.1867949 ,  1.65528256,\n",
       "        2.92868833,  2.70094661,  2.61339213,  3.80674879,  3.14656777,\n",
       "        3.14206701,  5.14239136,  3.17026005,  3.00977777,  3.84954574,\n",
       "        3.90033145,  2.43175541,  3.87717505,  1.7567366 ,  3.77346061,\n",
       "        2.59284874,  3.63369289,  3.88724848,  2.36354459,  4.46456777,\n",
       "        2.66217674,  1.56604944,  3.39004298,  3.58563487,  0.92564087,\n",
       "        3.27013337,  2.33716663,  2.74015318,  3.73934165,  3.65307788,\n",
       "        2.24490846,  3.95209633,  0.43228047,  2.66396132,  4.91570736,\n",
       "        2.79230184,  4.28990179,  2.53853207,  4.01715588,  3.89566858,\n",
       "        1.92623081,  3.20218705,  1.73149627,  2.70247825,  2.27201103,\n",
       "        2.22413629,  0.6484439 ,  2.78561424,  2.69839039,  3.20499891,\n",
       "        3.3205334 ,  3.6769272 ,  5.26805768,  1.86850127,  4.23684614,\n",
       "        3.40660137,  4.13172288,  3.06957016,  2.97559764,  4.26881599,\n",
       "        1.36326617,  3.26952005,  3.53234586,  2.66246822,  0.77738849,\n",
       "        2.2159727 ,  2.86541153,  3.12552469,  6.70363302,  2.86418214,\n",
       "        4.06002616,  3.9556408 ,  2.27169315,  1.93260761,  0.65360485,\n",
       "        3.47516715,  4.90615875,  3.63258196,  3.89472813,  3.00194832,\n",
       "        3.31676875,  3.2195065 ,  4.17205652,  4.2397602 ,  3.64567626,\n",
       "        2.4515174 ,  4.34374018,  2.93856099,  2.99741571,  4.832556  ,\n",
       "        2.81879092,  2.63895875,  3.02342344,  5.24054065,  1.26890239,\n",
       "        4.1331932 ,  2.67853056,  3.3914833 ,  2.72079011,  1.2811241 ,\n",
       "        2.97236442,  2.48637642,  2.38439444,  5.04436672,  2.93948725,\n",
       "        3.73798743,  2.15123259,  3.23217448,  2.90341219,  2.13909058,\n",
       "        2.18911917,  4.490004  ,  3.3956016 ,  2.40925779,  5.71679477,\n",
       "        4.05961951,  3.7922411 ,  2.56028145,  2.36106126,  2.78275833,\n",
       "        3.85238256,  2.47079902,  4.38106245,  2.11547209,  3.34021787,\n",
       "        2.36285246,  2.43598579,  2.20891967,  3.07021009,  2.59973615,\n",
       "        4.01883907,  2.83608658,  2.94465609,  1.80513802,  2.36788425,\n",
       "        3.34565893,  3.50249536,  4.43180263,  2.35792817,  4.06013784,\n",
       "        2.81063112,  3.89518283,  4.33363426,  2.32288381,  3.78072594,\n",
       "        1.63625192,  2.49716578,  3.04209158,  2.80923024,  2.12898386,\n",
       "        2.60086373,  3.56957203,  2.53311143,  4.01906934,  2.90119665,\n",
       "        2.23562282,  2.40105429,  2.88547819,  4.48051722,  1.17413963,\n",
       "        2.65207617,  3.52777826,  2.51534875,  2.11911792,  1.46313005,\n",
       "        2.15290011,  4.68626544,  3.27906038,  2.36403117,  2.07339014,\n",
       "        2.98612906,  3.3103771 ,  4.26250754,  1.19597768,  4.75996532,\n",
       "        3.20299043,  3.91713322,  1.99981886,  1.61671399,  3.93388795,\n",
       "        1.61510042,  2.72139163,  3.54489486,  3.46719235,  0.85079313,\n",
       "        4.01475637,  3.17245371,  1.90521078,  5.42408395,  3.27439704,\n",
       "        4.44934789,  3.20426473,  2.80431483,  2.38099029,  2.65068343,\n",
       "        3.89323631,  2.55720086,  4.16833357,  3.69209505,  2.96758284,\n",
       "        3.985413  ,  3.31088894,  2.50713501,  2.505406  ,  4.44892692,\n",
       "        3.63940663,  4.06096323,  3.4262864 ,  2.94201363,  1.56558181,\n",
       "        3.03870234,  4.05631011,  1.4831872 ,  4.84098688,  1.93582107,\n",
       "        3.34310661,  1.42560235,  4.25251165,  1.63767555,  3.44873998,\n",
       "        1.90475748,  3.62551824,  4.6028163 ,  3.39655288,  3.47358042,\n",
       "        2.13536455,  1.24832747,  5.11820595,  4.05412717,  1.73050301,\n",
       "        3.02519501,  0.55152717,  3.34609987,  0.97409092,  5.09617376,\n",
       "        1.95975298,  4.15210535,  4.70438942,  3.14830853,  1.4004877 ,\n",
       "        3.93694365,  3.54396535,  1.60844771,  3.35447754,  3.97122332,\n",
       "        4.40011127,  3.51502661,  3.22648562,  3.25003707,  2.60188865,\n",
       "        3.2559724 ,  2.64648542,  1.89167036,  3.6490307 ,  1.8845563 ,\n",
       "        2.46476196,  2.84769921,  3.1759711 ,  4.02079122,  2.31501905,\n",
       "        3.25461592,  2.58773376,  5.04239379,  1.81772032,  2.76041439,\n",
       "        2.48599125,  3.86837388,  1.18018358,  2.88947228,  3.29896465,\n",
       "        2.40719449,  2.23479182,  2.31704923,  4.53156863,  4.98515724,\n",
       "        3.66377786,  2.86679092,  4.81431367,  2.34083089,  2.78314646,\n",
       "        3.58683583,  4.62520246,  3.40759584,  2.65995358,  1.31286219,\n",
       "        4.28527474,  4.50948095,  2.06234547,  2.48809939,  4.00093477,\n",
       "        3.99866301,  3.52838431,  3.1069497 ,  3.11048847,  2.59130109,\n",
       "        3.22993657,  3.4069391 ,  2.07942404,  2.20145301,  3.89477121,\n",
       "        3.12486909,  4.45446425,  4.022674  ,  2.03019084,  2.18268318,\n",
       "        5.8289161 ,  4.02123337,  3.51695315,  2.61494938,  2.67024934,\n",
       "        2.93505022,  4.40546374,  3.71602163,  1.72807609,  2.2598937 ,\n",
       "        4.92556233,  2.39648646,  3.70105013,  2.42899847,  3.82222523,\n",
       "        2.93705604,  1.99653215,  1.81088236,  2.79800168,  4.15542864,\n",
       "        3.36383511,  4.08761196,  2.3156298 ,  3.21699198,  4.51213252,\n",
       "        2.59434896,  3.29865623,  0.45697571,  3.93112181,  3.57326857])"
      ]
     },
     "execution_count": 34,
     "metadata": {},
     "output_type": "execute_result"
    }
   ],
   "source": [
    "import matplotlib.pyplot as plt\n",
    "\n",
    "def predict(x):\n",
    "    return slope * x + intercept\n",
    "\n",
    "fitLine = predict(pageSpeeds)\n",
    "plt.scatter(pageSpeeds, purchaseAmount)\n",
    "plt.plot(pageSpeeds, fitLine, c='r')\n",
    "plt.show()\n",
    "#fitLine\n",
    "pageSpeeds"
   ]
  },
  {
   "cell_type": "code",
   "execution_count": null,
   "metadata": {
    "collapsed": true
   },
   "outputs": [],
   "source": []
  }
 ],
 "metadata": {
  "kernelspec": {
   "display_name": "Python 3",
   "language": "python",
   "name": "python3"
  },
  "language_info": {
   "codemirror_mode": {
    "name": "ipython",
    "version": 3
   },
   "file_extension": ".py",
   "mimetype": "text/x-python",
   "name": "python",
   "nbconvert_exporter": "python",
   "pygments_lexer": "ipython3",
   "version": "3.6.1"
  }
 },
 "nbformat": 4,
 "nbformat_minor": 1
}
